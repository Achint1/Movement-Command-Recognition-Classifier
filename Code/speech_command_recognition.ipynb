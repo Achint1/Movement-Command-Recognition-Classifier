{
 "cells": [
  {
   "cell_type": "code",
   "execution_count": 1,
   "metadata": {
    "collapsed": false,
    "jupyter": {
     "outputs_hidden": false
    }
   },
   "outputs": [],
   "source": [
    "%matplotlib inline"
   ]
  },
  {
   "cell_type": "markdown",
   "metadata": {},
   "source": [
    "https://mail.google.com/mail/u/0/#search/saran?projector=1\n",
    "Speech Command Recognition with torchaudio\n",
    "******************************************\n",
    "\n",
    "This tutorial will show you how to correctly format an audio dataset and\n",
    "then train/test an audio classifier network on the dataset.\n",
    "\n",
    "Colab has GPU option available. In the menu tabs, select “Runtime” then\n",
    "“Change runtime type”. In the pop-up that follows, you can choose GPU.\n",
    "After the change, your runtime should automatically restart (which means\n",
    "information from executed cells disappear).\n",
    "\n",
    "First, let’s import the common torch packages such as\n",
    "`torchaudio <https://github.com/pytorch/audio>`__ that can be installed\n",
    "by following the instructions on the website.\n",
    "\n",
    "\n"
   ]
  },
  {
   "cell_type": "code",
   "execution_count": 2,
   "metadata": {
    "collapsed": false,
    "jupyter": {
     "outputs_hidden": false
    }
   },
   "outputs": [],
   "source": [
    "# Uncomment the line corresponding to your \"runtime type\"+6666666666666666666666\n",
    "# !pip install pydub torch==1.7.0+cpu torchvision==0.8.1+cpu torchaudio==0.7.0 -f https://download.pytorch.org/whl/torch_stable.html\n",
    "\n",
    "# GPU:\n",
    "# !pip install pydub torch==1.7.0+cu101 torchvision==0.8.1+cu101 torchaudio==0.7.0 -f https://download.pytorch.org/whl/torch_stable.html\n",
    "\n",
    "import torch\n",
    "import torch.nn as nn\n",
    "import torch.nn.functional as F\n",
    "import torch.optim as optim\n",
    "import torchaudio\n",
    "import sys\n",
    "\n",
    "import matplotlib.pyplot as plt\n",
    "import IPython.display as ipd\n",
    "\n",
    "from tqdm import tqdm"
   ]
  },
  {
   "cell_type": "markdown",
   "metadata": {},
   "source": [
    "Let’s check if a CUDA GPU is available and select our device. Running\n",
    "the network on a GPU will greatly decrease the training/testing runtime.\n",
    "\n",
    "\n"
   ]
  },
  {
   "cell_type": "code",
   "execution_count": 4,
   "metadata": {
    "collapsed": false,
    "jupyter": {
     "outputs_hidden": false
    }
   },
   "outputs": [
    {
     "name": "stdout",
     "output_type": "stream",
     "text": [
      "cpu\n"
     ]
    },
    {
     "data": {
      "text/plain": [
       "tensor([0.], device='cuda:0')"
      ]
     },
     "execution_count": 4,
     "metadata": {},
     "output_type": "execute_result"
    }
   ],
   "source": [
    "device = torch.device(\"cpu\")\n",
    "print(device)\n",
    "torch.zeros(1).cuda()"
   ]
  },
  {
   "cell_type": "markdown",
   "metadata": {
    "tags": []
   },
   "source": [
    "0/119 (0Importing the Dataset\n",
    "---------------------\n",
    "\n",
    "We use torchaudio to download and represent the dataset. Here we use\n",
    "`SpeechCommands <https://arxiv.org/abs/1804.03209>`__, which is a\n",
    "datasets of 35 commands spoken by different people. The dataset\n",
    "``SPEECHCOMMANDS`` is a ``torch.utils.data.Dataset`` version of the\n",
    "dataset. In this dataset, all audio files are about 1 second long (and\n",
    "so about 16000 time frames long).\n",
    "\n",
    "The actual loading and formatting steps happen when a data point is\n",
    "being accessed, and torchaudio takes care of converting the audio files\n",
    "to tensors. If one wants to load an audio file directly instead,\n",
    "``torchaudio.load()`` can be used. It returns a tuple containing the\n",
    "newly created tensor along with the sampling frequency of the audio file\n",
    "(16kHz for SpeechCommands).\n",
    "\n",
    "Going back to the dataset, here we create a subclass that splits it into\n",
    "standard training, validation, testing subsets.\n",
    "\n",
    "\n"
   ]
  },
  {
   "cell_type": "code",
   "execution_count": 5,
   "metadata": {
    "collapsed": false,
    "jupyter": {
     "outputs_hidden": false
    }
   },
   "outputs": [],
   "source": [
    "from torchaudio.datasets import SPEECHCOMMANDS\n",
    "import os\n",
    "\n",
    "\n",
    "class SubsetSC(SPEECHCOMMANDS):\n",
    "    def __init__(self, subset: str = None):\n",
    "        super().__init__(\"./\", download=True)\n",
    "\n",
    "        def load_list(filename):\n",
    "            filepath = os.path.join(self._path, filename)\n",
    "            with open(filepath) as fileobj:\n",
    "                return [os.path.join(self._path, line.strip()) for line in fileobj]\n",
    "\n",
    "        if subset == \"validation\":\n",
    "            self._walker = load_list(\"validation_list.txt\")\n",
    "        elif subset == \"testing\":\n",
    "            self._walker = load_list(\"testing_list.txt\")\n",
    "        elif subset == \"training\":\n",
    "            excludes = load_list(\"validation_list.txt\") + load_list(\"testing_list.txt\")\n",
    "            excludes = set(excludes)\n",
    "            self._walker = [w for w in self._walker if w not in excludes]\n",
    "\n",
    "\n",
    "# Create training and testing split of the data. We do not use validation in this tutorial.\n",
    "Train_set = SubsetSC(\"training\")\n",
    "Test_set = SubsetSC(\"testing\")\n",
    "train_set=[]\n",
    "test_set=[]\n",
    "labelss=['backward','forward','yes', 'no','up', 'left','right','down','stop']\n",
    "for item in Train_set:\n",
    "    if item[2]  in labelss:\n",
    "        train_set.append(item)\n",
    "#     else :\n",
    "# #         item[2]=\"other\"\n",
    "#         train_set.append((item[0],item[1],'other',item[3],item[4]))\n",
    "\n",
    "for item in Test_set:\n",
    "    if item [2] in labelss:\n",
    "        test_set.append(item)\n",
    "#     else :\n",
    "# #         item[2]=\"other\"\n",
    "# #         test_set.append((item[0],item[1],'other',item[3],item[4]))\n",
    "\n",
    "\n",
    "\n",
    "waveform, sample_rate, label, speaker_id, utterance_number = train_set[0]"
   ]
  },
  {
   "cell_type": "markdown",
   "metadata": {},
   "source": [
    "A data point in the SPEECHCOMMANDS dataset is a tuple made of a waveform\n",
    "(the audio signal), the sample rate, the utterance (label), the ID of\n",
    "the speaker, the number of the utterance.\n",
    "\n",
    "\n"
   ]
  },
  {
   "cell_type": "code",
   "execution_count": 6,
   "metadata": {
    "collapsed": false,
    "jupyter": {
     "outputs_hidden": false
    }
   },
   "outputs": [
    {
     "name": "stdout",
     "output_type": "stream",
     "text": [
      "Shape of waveform: torch.Size([1, 16000])\n",
      "Sample rate of waveform: 16000\n"
     ]
    },
    {
     "data": {
      "image/png": "[encoded data removed]",
      "text/plain": [
       "<Figure size 432x288 with 1 Axes>"
      ]
     },
     "metadata": {
      "needs_background": "light"
     },
     "output_type": "display_data"
    }
   ],
   "source": [
    "print(\"Shape of waveform: {}\".format(waveform.size()))\n",
    "print(\"Sample rate of waveform: {}\".format(sample_rate))\n",
    "\n",
    "plt.plot(waveform.t().numpy());"
   ]
  },
  {
   "cell_type": "markdown",
   "metadata": {},
   "source": [
    "Let’s find the list of labels available in the dataset.\n",
    "\n",
    "\n"
   ]
  },
  {
   "cell_type": "code",
   "execution_count": 7,
   "metadata": {
    "tags": []
   },
   "outputs": [
    {
     "data": {
      "text/plain": [
       "['backward', 'down', 'forward', 'left', 'no', 'right', 'stop', 'up', 'yes']"
      ]
     },
     "execution_count": 7,
     "metadata": {},
     "output_type": "execute_result"
    }
   ],
   "source": [
    "labels = sorted(list(set(datapoint[2] for datapoint in train_set)))\n",
    "labels"
   ]
  },
  {
   "cell_type": "markdown",
   "metadata": {},
   "source": [
    "The 35 audio labels are commands that are said by users. The first few\n",
    "files are people saying “marvin”.\n",
    "\n",
    "\n"
   ]
  },
  {
   "cell_type": "code",
   "execution_count": 8,
   "metadata": {
    "collapsed": false,
    "jupyter": {
     "outputs_hidden": false
    }
   },
   "outputs": [
    {
     "data": {
      "text/html": [
       "\n",
       "                <audio  controls=\"controls\" >\n",
       "                    <source src=\"data:audio/wav;base64,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\" type=\"audio/wav\" />\n",
       "                    Your browser does not support the audio element.\n",
       "                </audio>\n",
       "              "
      ],
      "text/plain": [
       "<IPython.lib.display.Audio object>"
      ]
     },
     "execution_count": 8,
     "metadata": {},
     "output_type": "execute_result"
    }
   ],
   "source": [
    "waveform_first, *_ = train_set[0]\n",
    "ipd.Audio(waveform_first.numpy(), rate=sample_rate)\n",
    "\n",
    "waveform_second, *_ = train_set[1]\n",
    "ipd.Audio(waveform_second.numpy(), rate=sample_rate)"
   ]
  },
  {
   "cell_type": "markdown",
   "metadata": {},
   "source": [
    "The last file is someone saying “visual”.\n",
    "\n",
    "\n"
   ]
  },
  {
   "cell_type": "code",
   "execution_count": 9,
   "metadata": {
    "collapsed": false,
    "jupyter": {
     "outputs_hidden": false
    }
   },
   "outputs": [
    {
     "data": {
      "text/html": [
       "\n",
       "                <audio  controls=\"controls\" >\n",
       "                    <source src=\"data:audio/wav;base64,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\" type=\"audio/wav\" />\n",
       "                    Your browser does not support the audio element.\n",
       "                </audio>\n",
       "              "
      ],
      "text/plain": [
       "<IPython.lib.display.Audio object>"
      ]
     },
     "execution_count": 9,
     "metadata": {},
     "output_type": "execute_result"
    }
   ],
   "source": [
    "waveform_last, *_ = train_set[-1]\n",
    "ipd.Audio(waveform_last.numpy(), rate=sample_rate)"
   ]
  },
  {
   "cell_type": "markdown",
   "metadata": {
    "tags": []
   },
   "source": [
    "Formatting the Data\n",
    "-------------------\n",
    "\n",
    "This is a good place to apply transformations to the data. For the\n",
    "waveform, we downsample the audio for faster processing without losing\n",
    "too much of the classification power.\n",
    "\n",
    "We don’t need to apply other transformations here. It is common for some\n",
    "datasets though to have to reduce the number of channels (say from\n",
    "stereo to mono) by either taking the mean along the channel dimension,\n",
    "or simply keeping only one of the channels. Since SpeechCommands uses a\n",
    "single channel for audio, this is not needed here.\n",
    "\n",
    "\n"
   ]
  },
  {
   "cell_type": "code",
   "execution_count": 10,
   "metadata": {
    "tags": []
   },
   "outputs": [],
   "source": [
    "new_sample_rate = 8000\n",
    "# transform = torchaudio.transforms.Resample(orig_freq=sample_rate, new_freq=new_sample_rate)\n",
    "# transformed = waveform\n",
    "\n",
    "# ipd.Audio(transformed.numpy(), rate=new_sample_rate)"
   ]
  },
  {
   "cell_type": "markdown",
   "metadata": {},
   "source": [
    "We are encoding each word using its index in the list of labels.\n",
    "\n",
    "\n"
   ]
  },
  {
   "cell_type": "code",
   "execution_count": 11,
   "metadata": {
    "collapsed": false,
    "jupyter": {
     "outputs_hidden": false
    }
   },
   "outputs": [
    {
     "name": "stdout",
     "output_type": "stream",
     "text": [
      "yes --> tensor(8) --> yes\n"
     ]
    }
   ],
   "source": [
    "def label_to_index(word):\n",
    "    # Return the position of the word in labels\n",
    "    return torch.tensor(labels.index(word))\n",
    "\n",
    "\n",
    "def index_to_label(index):\n",
    "    # Return the word corresponding to the index in labels\n",
    "    # This is the inverse of label_to_index\n",
    "    return labels[index]\n",
    "\n",
    "\n",
    "word_start = \"yes\"\n",
    "index = label_to_index(word_start)\n",
    "word_recovered = index_to_label(index)\n",
    "\n",
    "print(word_start, \"-->\", index, \"-->\", word_recovered)"
   ]
  },
  {
   "cell_type": "markdown",
   "metadata": {},
   "source": [
    "To turn a list of data point made of audio recordings and utterances\n",
    "into two batched tensors for the model, we implement a collate function\n",
    "which is used by the PyTorch DataLoader that allows us to iterate over a\n",
    "dataset by batches. Please see `the\n",
    "documentation <https://pytorch.org/docs/stable/data.html#working-with-collate-fn>`__\n",
    "for more information about working with a collate function.\n",
    "\n",
    "In the collate function, we also apply the resampling, and the text\n",
    "encoding.\n",
    "\n",
    "\n"
   ]
  },
  {
   "cell_type": "code",
   "execution_count": 12,
   "metadata": {
    "collapsed": false,
    "jupyter": {
     "outputs_hidden": false
    }
   },
   "outputs": [],
   "source": [
    "def pad_sequence(batch):\n",
    "    # Make all tensor in a batch the same length by padding with zeros\n",
    "    batch = [item.t() for item in batch]\n",
    "    batch = torch.nn.utils.rnn.pad_sequence(batch, batch_first=True, padding_value=0.)\n",
    "    return batch.permute(0, 2, 1)\n",
    "\n",
    "\n",
    "def collate_fn(batch):\n",
    "\n",
    "    # A data tuple has the form:\n",
    "    # waveform, sample_rate, label, speaker_id, utterance_number\n",
    "\n",
    "    tensors, targets = [], []\n",
    "\n",
    "    # Gather in lists, and encode labels as indices\n",
    "    for waveform, _, label, *_ in batch:\n",
    "        tensors += [waveform]\n",
    "        targets += [label_to_index(label)]\n",
    "\n",
    "    # Group the list of tensors into a batched tensor\n",
    "    tensors = pad_sequence(tensors)\n",
    "    targets = torch.stack(targets)\n",
    "\n",
    "    return tensors, targets\n",
    "\n",
    "\n",
    "batch_size = 256\n",
    "\n",
    "if device == \"cuda\":\n",
    "    num_workers = 1\n",
    "    pin_memory = True\n",
    "else:\n",
    "    num_workers = 0\n",
    "    pin_memory = False\n",
    "\n",
    "train_loader = torch.utils.data.DataLoader(\n",
    "    train_set,\n",
    "    batch_size=batch_size,\n",
    "    shuffle=True,\n",
    "    collate_fn=collate_fn,\n",
    "    num_workers=num_workers,\n",
    "    pin_memory=pin_memory,\n",
    ")\n",
    "test_loader = torch.utils.data.DataLoader(\n",
    "    test_set,\n",
    "    batch_size=batch_size,\n",
    "    shuffle=False,\n",
    "    drop_last=False,\n",
    "    collate_fn=collate_fn,\n",
    "    num_workers=num_workers,\n",
    "    pin_memory=pin_memory,\n",
    ")"
   ]
  },
  {
   "cell_type": "markdown",
   "metadata": {},
   "source": [
    "Define the Network\n",
    "------------------\n",
    "\n",
    "For this tutorial we will use a convolutional neural network to process\n",
    "the raw audio data. Usually more advanced transforms are applied to the\n",
    "audio data, however CNNs can be used to accurately process the raw data.\n",
    "The specific architecture is modeled after the M5 network architecture\n",
    "described in `this paper <https://arxiv.org/pdf/1610.00087.pdf>`__. An\n",
    "important aspect of models processing raw audio data is the receptive\n",
    "field of their first layer’s filters. Our model’s first filter is length\n",
    "80 so when processing audio sampled at 8kHz the receptive field is\n",
    "around 10ms (and at 4kHz, around 20 ms). This size is similar to speech\n",
    "processing applications that often use receptive fields ranging from\n",
    "20ms to 40ms.\n",
    "\n",
    "\n"
   ]
  },
  {
   "cell_type": "code",
   "execution_count": 13,
   "metadata": {
    "collapsed": false,
    "jupyter": {
     "outputs_hidden": false
    }
   },
   "outputs": [
    {
     "name": "stdout",
     "output_type": "stream",
     "text": [
      "M5(\n",
      "  (conv1): Conv1d(1, 32, kernel_size=(80,), stride=(16,))\n",
      "  (bn1): BatchNorm1d(32, eps=1e-05, momentum=0.1, affine=True, track_running_stats=True)\n",
      "  (pool1): MaxPool1d(kernel_size=4, stride=4, padding=0, dilation=1, ceil_mode=False)\n",
      "  (conv2): Conv1d(32, 32, kernel_size=(3,), stride=(1,))\n",
      "  (bn2): BatchNorm1d(32, eps=1e-05, momentum=0.1, affine=True, track_running_stats=True)\n",
      "  (pool2): MaxPool1d(kernel_size=4, stride=4, padding=0, dilation=1, ceil_mode=False)\n",
      "  (conv3): Conv1d(32, 64, kernel_size=(3,), stride=(1,))\n",
      "  (bn3): BatchNorm1d(64, eps=1e-05, momentum=0.1, affine=True, track_running_stats=True)\n",
      "  (pool3): MaxPool1d(kernel_size=4, stride=4, padding=0, dilation=1, ceil_mode=False)\n",
      "  (conv4): Conv1d(64, 64, kernel_size=(3,), stride=(1,))\n",
      "  (bn4): BatchNorm1d(64, eps=1e-05, momentum=0.1, affine=True, track_running_stats=True)\n",
      "  (pool4): MaxPool1d(kernel_size=4, stride=4, padding=0, dilation=1, ceil_mode=False)\n",
      "  (fc1): Linear(in_features=64, out_features=9, bias=True)\n",
      ")\n",
      "Number of parameters: 25225\n"
     ]
    }
   ],
   "source": [
    "class M5(nn.Module):\n",
    "    def __init__(self, n_input=1, n_output=8, stride=16, n_channel=32):\n",
    "        super().__init__()\n",
    "        self.conv1 = nn.Conv1d(n_input, n_channel, kernel_size=80, stride=stride)\n",
    "        self.bn1 = nn.BatchNorm1d(n_channel)\n",
    "        self.pool1 = nn.MaxPool1d(4)\n",
    "        self.conv2 = nn.Conv1d(n_channel, n_channel, kernel_size=3)\n",
    "        self.bn2 = nn.BatchNorm1d(n_channel)\n",
    "        self.pool2 = nn.MaxPool1d(4)\n",
    "        self.conv3 = nn.Conv1d(n_channel, 2 * n_channel, kernel_size=3)\n",
    "        self.bn3 = nn.BatchNorm1d(2 * n_channel)\n",
    "        self.pool3 = nn.MaxPool1d(4)\n",
    "        self.conv4 = nn.Conv1d(2 * n_channel, 2 * n_channel, kernel_size=3)\n",
    "        self.bn4 = nn.BatchNorm1d(2 * n_channel)\n",
    "        self.pool4 = nn.MaxPool1d(4)\n",
    "        self.fc1 = nn.Linear(2 * n_channel, n_output)\n",
    "\n",
    "    def forward(self, x):\n",
    "        x = self.conv1(x)\n",
    "        x = F.relu(self.bn1(x))\n",
    "        x = self.pool1(x)\n",
    "        x = self.conv2(x)\n",
    "        x = F.relu(self.bn2(x))\n",
    "        x = self.pool2(x)\n",
    "        x = self.conv3(x)\n",
    "        x = F.relu(self.bn3(x))\n",
    "        x = self.pool3(x)\n",
    "        x = self.conv4(x)\n",
    "        x = F.relu(self.bn4(x))\n",
    "        x = self.pool4(x)\n",
    "        x = F.avg_pool1d(x, x.shape[-1])\n",
    "        x = x.permute(0, 2, 1)\n",
    "        x = self.fc1(x)\n",
    "        return F.log_softmax(x, dim=2)\n",
    "\n",
    "\n",
    "model = M5(n_input=waveform_last.shape[0], n_output=len(labels))\n",
    "model.to(device)\n",
    "print(model)\n",
    "\n",
    "\n",
    "def count_parameters(model):\n",
    "    return sum(p.numel() for p in model.parameters() if p.requires_grad)\n",
    "\n",
    "\n",
    "n = count_parameters(model)\n",
    "print(\"Number of parameters: %s\" % n)"
   ]
  },
  {
   "cell_type": "code",
   "execution_count": 14,
   "metadata": {},
   "outputs": [],
   "source": [
    "# # from torchvision import models\n",
    "# from torchsummary import summary\n",
    "\n",
    "# # vgg = M5()\n",
    "# summary(M5, (3, 224, 224))"
   ]
  },
  {
   "cell_type": "markdown",
   "metadata": {},
   "source": [
    "We will use the same optimization technique used in the paper, an Adam\n",
    "optimizer with weight decay set to 0.0001. At first, we will train with\n",
    "a learning rate of 0.01, but we will use a ``scheduler`` to decrease it\n",
    "to 0.001 during training after 20 epochs.\n",
    "\n",
    "\n"
   ]
  },
  {
   "cell_type": "code",
   "execution_count": 15,
   "metadata": {
    "collapsed": false,
    "jupyter": {
     "outputs_hidden": false
    }
   },
   "outputs": [],
   "source": [
    "optimizer = optim.Adam(model.parameters(), lr=0.01, weight_decay=0.0001)\n",
    "scheduler = optim.lr_scheduler.StepLR(optimizer, step_size=20, gamma=0.1)  # reduce the learning after 20 epochs by a factor of 10"
   ]
  },
  {
   "cell_type": "markdown",
   "metadata": {},
   "source": [
    "Training and Testing the Network\n",
    "--------------------------------\n",
    "\n",
    "Now let’s define a training function that will feed our training data\n",
    "into the model and perform the backward pass and optimization steps. For\n",
    "training, the loss we will use is the negative log-likelihood. The\n",
    "network will then be tested after each epoch to see how the accuracy\n",
    "varies during the training.\n",
    "\n",
    "\n"
   ]
  },
  {
   "cell_type": "code",
   "execution_count": 16,
   "metadata": {
    "collapsed": false,
    "jupyter": {
     "outputs_hidden": false
    }
   },
   "outputs": [],
   "source": [
    "def train(model, epoch, log_interval):\n",
    "    model.train()\n",
    "    for batch_idx, (data, target) in enumerate(train_loader):\n",
    "\n",
    "        data = data.to(device)\n",
    "        target = target.to(device)\n",
    "\n",
    "        # apply transform and model on whole batch directly on device\n",
    "        #         data = transform(data)\n",
    "        output = model(data)\n",
    "\n",
    "        # negative log-likelihood for a tensor of size (batch x 1 x n_output)\n",
    "        loss = F.nll_loss(output.squeeze(), target)\n",
    "\n",
    "        optimizer.zero_grad()\n",
    "        loss.backward()\n",
    "        optimizer.step()\n",
    "\n",
    "        # print training stats\n",
    "        if batch_idx % log_interval == 0:\n",
    "            print(f\"Train Epoch: {epoch} [{batch_idx * len(data)}/{len(train_loader.dataset)} ({100. * batch_idx / len(train_loader):.0f}%)]\\tLoss: {loss.item():.6f}\")\n",
    "\n",
    "        # update progress bar\n",
    "        pbar.update(pbar_update)\n",
    "        # record loss\n",
    "        losses.append(loss.item())"
   ]
  },
  {
   "cell_type": "markdown",
   "metadata": {},
   "source": [
    "Now that we have a training function, we need to make one for testing\n",
    "the networks accuracy. We will set the model to ``eval()`` mode and then\n",
    "run inference on the test dataset. Calling ``eval()`` sets the training\n",
    "variable in all modules in the network to false. Certain layers like\n",
    "batch normalization and dropout layers behave differently during\n",
    "training so this step is crucial for getting correct results.\n",
    "\n",
    "\n"
   ]
  },
  {
   "cell_type": "code",
   "execution_count": 17,
   "metadata": {
    "collapsed": false,
    "jupyter": {
     "outputs_hidden": false
    }
   },
   "outputs": [],
   "source": [
    "def number_of_correct(pred, target):\n",
    "    # count number of correct predictions\n",
    "    return pred.squeeze().eq(target).sum().item()\n",
    "\n",
    "\n",
    "def get_likely_index(tensor):\n",
    "    # find most likely label index for each element in the batch\n",
    "    return tensor.argmax(dim=-1)\n",
    "\n",
    "\n",
    "def test(model, epoch):\n",
    "    model.eval()\n",
    "    correct = 0\n",
    "    for data, target in test_loader:\n",
    "\n",
    "        data = data.to(device)\n",
    "        target = target.to(device)\n",
    "\n",
    "        # apply transform and model on whole batch directly on device\n",
    "        #data = transform(data)\n",
    "        output = model(data)\n",
    "\n",
    "        pred = get_likely_index(output)\n",
    "        correct += number_of_correct(pred, target)\n",
    "\n",
    "        # update progress bar\n",
    "        pbar.update(pbar_update)\n",
    "\n",
    "    print(f\"\\nTest Epoch: {epoch}\\tAccuracy: {correct}/{len(test_loader.dataset)} ({100. * correct / len(test_loader.dataset):.0f}%)\\n\")"
   ]
  },
  {
   "cell_type": "code",
   "execution_count": 18,
   "metadata": {},
   "outputs": [],
   "source": [
    "from tqdm import tqdm"
   ]
  },
  {
   "cell_type": "markdown",
   "metadata": {},
   "source": [
    "Finally, we can train and test the network. We will train the network\n",
    "for ten epochs then reduce the learn rate and train for ten more epochs.\n",
    "The network will be tested after each epoch to see how the accuracy\n",
    "varies during the training.\n",
    "\n",
    "\n"
   ]
  },
  {
   "cell_type": "code",
   "execution_count": 34,
   "metadata": {
    "tags": []
   },
   "outputs": [
    {
     "name": "stderr",
     "output_type": "stream",
     "text": [
      "  0%|          | 0.015151515151515152/15 [00:00<05:04, 20.30s/it]"
     ]
    },
    {
     "name": "stdout",
     "output_type": "stream",
     "text": [
      "Train Epoch: 1 [0/30297 (0%)]\tLoss: 0.239932\n"
     ]
    },
    {
     "name": "stderr",
     "output_type": "stream",
     "text": [
      "  1%|          | 0.16666666666666657/15 [00:03<04:43, 19.15s/it] "
     ]
    },
    {
     "name": "stdout",
     "output_type": "stream",
     "text": [
      "Train Epoch: 1 [5120/30297 (17%)]\tLoss: 0.158471\n"
     ]
    },
    {
     "name": "stderr",
     "output_type": "stream",
     "text": [
      "  2%|▏         | 0.31818181818181795/15 [00:05<04:21, 17.80s/it]"
     ]
    },
    {
     "name": "stdout",
     "output_type": "stream",
     "text": [
      "Train Epoch: 1 [10240/30297 (34%)]\tLoss: 0.157559\n"
     ]
    },
    {
     "name": "stderr",
     "output_type": "stream",
     "text": [
      "  3%|▎         | 0.46969696969696934/15 [00:08<04:17, 17.74s/it]"
     ]
    },
    {
     "name": "stdout",
     "output_type": "stream",
     "text": [
      "Train Epoch: 1 [15360/30297 (50%)]\tLoss: 0.213380\n"
     ]
    },
    {
     "name": "stderr",
     "output_type": "stream",
     "text": [
      "  4%|▍         | 0.6212121212121208/15 [00:11<04:15, 17.74s/it] "
     ]
    },
    {
     "name": "stdout",
     "output_type": "stream",
     "text": [
      "Train Epoch: 1 [20480/30297 (67%)]\tLoss: 0.270716\n"
     ]
    },
    {
     "name": "stderr",
     "output_type": "stream",
     "text": [
      "  5%|▌         | 0.7727272727272722/15 [00:14<04:18, 18.14s/it]"
     ]
    },
    {
     "name": "stdout",
     "output_type": "stream",
     "text": [
      "Train Epoch: 1 [25600/30297 (84%)]\tLoss: 0.165365\n"
     ]
    },
    {
     "name": "stderr",
     "output_type": "stream",
     "text": [
      "  7%|▋         | 1.007575757575757/15 [00:17<02:06,  9.07s/it] "
     ]
    },
    {
     "name": "stdout",
     "output_type": "stream",
     "text": [
      "\n",
      "Test Epoch: 1\tAccuracy: 2914/3194 (91%)\n",
      "\n",
      "Train Epoch: 2 [0/30297 (0%)]\tLoss: 0.208209\n"
     ]
    },
    {
     "name": "stderr",
     "output_type": "stream",
     "text": [
      "  8%|▊         | 1.1666666666666659/15 [00:20<04:11, 18.21s/it]"
     ]
    },
    {
     "name": "stdout",
     "output_type": "stream",
     "text": [
      "Train Epoch: 2 [5120/30297 (17%)]\tLoss: 0.208955\n"
     ]
    },
    {
     "name": "stderr",
     "output_type": "stream",
     "text": [
      "  9%|▉         | 1.3181818181818172/15 [00:23<04:25, 19.44s/it]"
     ]
    },
    {
     "name": "stdout",
     "output_type": "stream",
     "text": [
      "Train Epoch: 2 [10240/30297 (34%)]\tLoss: 0.209100\n"
     ]
    },
    {
     "name": "stderr",
     "output_type": "stream",
     "text": [
      " 10%|▉         | 1.4696969696969686/15 [00:25<03:59, 17.72s/it]"
     ]
    },
    {
     "name": "stdout",
     "output_type": "stream",
     "text": [
      "Train Epoch: 2 [15360/30297 (50%)]\tLoss: 0.176034\n"
     ]
    },
    {
     "name": "stderr",
     "output_type": "stream",
     "text": [
      " 11%|█         | 1.62121212121212/15 [00:28<04:00, 17.96s/it]  "
     ]
    },
    {
     "name": "stdout",
     "output_type": "stream",
     "text": [
      "Train Epoch: 2 [20480/30297 (67%)]\tLoss: 0.203190\n"
     ]
    },
    {
     "name": "stderr",
     "output_type": "stream",
     "text": [
      " 12%|█▏        | 1.7727272727272714/15 [00:31<03:54, 17.70s/it]"
     ]
    },
    {
     "name": "stdout",
     "output_type": "stream",
     "text": [
      "Train Epoch: 2 [25600/30297 (84%)]\tLoss: 0.296724\n"
     ]
    },
    {
     "name": "stderr",
     "output_type": "stream",
     "text": [
      " 13%|█▎        | 2.007575757575756/15 [00:34<02:00,  9.31s/it] "
     ]
    },
    {
     "name": "stdout",
     "output_type": "stream",
     "text": [
      "\n",
      "Test Epoch: 2\tAccuracy: 3038/3194 (95%)\n",
      "\n",
      "Train Epoch: 3 [0/30297 (0%)]\tLoss: 0.192443\n"
     ]
    },
    {
     "name": "stderr",
     "output_type": "stream",
     "text": [
      " 14%|█▍        | 2.1666666666666696/15 [00:37<03:56, 18.40s/it]"
     ]
    },
    {
     "name": "stdout",
     "output_type": "stream",
     "text": [
      "Train Epoch: 3 [5120/30297 (17%)]\tLoss: 0.159965\n"
     ]
    },
    {
     "name": "stderr",
     "output_type": "stream",
     "text": [
      " 15%|█▌        | 2.3181818181818254/15 [00:40<04:10, 19.72s/it]"
     ]
    },
    {
     "name": "stdout",
     "output_type": "stream",
     "text": [
      "Train Epoch: 3 [10240/30297 (34%)]\tLoss: 0.149363\n"
     ]
    },
    {
     "name": "stderr",
     "output_type": "stream",
     "text": [
      " 16%|█▋        | 2.4696969696969813/15 [00:43<03:46, 18.08s/it]"
     ]
    },
    {
     "name": "stdout",
     "output_type": "stream",
     "text": [
      "Train Epoch: 3 [15360/30297 (50%)]\tLoss: 0.219483\n"
     ]
    },
    {
     "name": "stderr",
     "output_type": "stream",
     "text": [
      " 17%|█▋        | 2.621212121212137/15 [00:46<03:50, 18.63s/it] "
     ]
    },
    {
     "name": "stdout",
     "output_type": "stream",
     "text": [
      "Train Epoch: 3 [20480/30297 (67%)]\tLoss: 0.206464\n"
     ]
    },
    {
     "name": "stderr",
     "output_type": "stream",
     "text": [
      " 18%|█▊        | 2.772727272727293/15 [00:48<03:43, 18.31s/it] "
     ]
    },
    {
     "name": "stdout",
     "output_type": "stream",
     "text": [
      "Train Epoch: 3 [25600/30297 (84%)]\tLoss: 0.176777\n"
     ]
    },
    {
     "name": "stderr",
     "output_type": "stream",
     "text": [
      " 20%|██        | 3.0075757575757844/15 [00:52<01:46,  8.86s/it]"
     ]
    },
    {
     "name": "stdout",
     "output_type": "stream",
     "text": [
      "\n",
      "Test Epoch: 3\tAccuracy: 2966/3194 (93%)\n",
      "\n",
      "Train Epoch: 4 [0/30297 (0%)]\tLoss: 0.143243\n"
     ]
    },
    {
     "name": "stderr",
     "output_type": "stream",
     "text": [
      " 21%|██        | 3.166666666666698/15 [00:55<03:53, 19.77s/it] "
     ]
    },
    {
     "name": "stdout",
     "output_type": "stream",
     "text": [
      "Train Epoch: 4 [5120/30297 (17%)]\tLoss: 0.156952\n"
     ]
    },
    {
     "name": "stderr",
     "output_type": "stream",
     "text": [
      " 22%|██▏       | 3.318181818181854/15 [00:57<03:38, 18.68s/it] "
     ]
    },
    {
     "name": "stdout",
     "output_type": "stream",
     "text": [
      "Train Epoch: 4 [10240/30297 (34%)]\tLoss: 0.191479\n"
     ]
    },
    {
     "name": "stderr",
     "output_type": "stream",
     "text": [
      " 23%|██▎       | 3.4696969696970097/15 [01:00<03:33, 18.49s/it]"
     ]
    },
    {
     "name": "stdout",
     "output_type": "stream",
     "text": [
      "Train Epoch: 4 [15360/30297 (50%)]\tLoss: 0.311780\n"
     ]
    },
    {
     "name": "stderr",
     "output_type": "stream",
     "text": [
      " 24%|██▍       | 3.6212121212121655/15 [01:03<03:23, 17.87s/it]"
     ]
    },
    {
     "name": "stdout",
     "output_type": "stream",
     "text": [
      "Train Epoch: 4 [20480/30297 (67%)]\tLoss: 0.180785\n"
     ]
    },
    {
     "name": "stderr",
     "output_type": "stream",
     "text": [
      " 25%|██▌       | 3.7727272727273213/15 [01:06<03:24, 18.24s/it]"
     ]
    },
    {
     "name": "stdout",
     "output_type": "stream",
     "text": [
      "Train Epoch: 4 [25600/30297 (84%)]\tLoss: 0.183341\n"
     ]
    },
    {
     "name": "stderr",
     "output_type": "stream",
     "text": [
      " 27%|██▋       | 4.007575757575813/15 [01:09<01:38,  8.96s/it] "
     ]
    },
    {
     "name": "stdout",
     "output_type": "stream",
     "text": [
      "\n",
      "Test Epoch: 4\tAccuracy: 3024/3194 (95%)\n",
      "\n",
      "Train Epoch: 5 [0/30297 (0%)]\tLoss: 0.148109\n"
     ]
    },
    {
     "name": "stderr",
     "output_type": "stream",
     "text": [
      " 28%|██▊       | 4.1666666666667265/15 [01:12<03:18, 18.35s/it]"
     ]
    },
    {
     "name": "stdout",
     "output_type": "stream",
     "text": [
      "Train Epoch: 5 [5120/30297 (17%)]\tLoss: 0.140619\n"
     ]
    },
    {
     "name": "stderr",
     "output_type": "stream",
     "text": [
      " 29%|██▉       | 4.318181818181882/15 [01:15<03:04, 17.27s/it] "
     ]
    },
    {
     "name": "stdout",
     "output_type": "stream",
     "text": [
      "Train Epoch: 5 [10240/30297 (34%)]\tLoss: 0.126972\n"
     ]
    },
    {
     "name": "stderr",
     "output_type": "stream",
     "text": [
      " 30%|██▉       | 4.469696969697038/15 [01:18<03:08, 17.85s/it] "
     ]
    },
    {
     "name": "stdout",
     "output_type": "stream",
     "text": [
      "Train Epoch: 5 [15360/30297 (50%)]\tLoss: 0.160725\n"
     ]
    },
    {
     "name": "stderr",
     "output_type": "stream",
     "text": [
      " 31%|███       | 4.621212121212194/15 [01:21<03:35, 20.73s/it] "
     ]
    },
    {
     "name": "stdout",
     "output_type": "stream",
     "text": [
      "Train Epoch: 5 [20480/30297 (67%)]\tLoss: 0.177929\n"
     ]
    },
    {
     "name": "stderr",
     "output_type": "stream",
     "text": [
      " 32%|███▏      | 4.77272727272735/15 [01:24<03:29, 20.50s/it]  "
     ]
    },
    {
     "name": "stdout",
     "output_type": "stream",
     "text": [
      "Train Epoch: 5 [25600/30297 (84%)]\tLoss: 0.200795\n"
     ]
    },
    {
     "name": "stderr",
     "output_type": "stream",
     "text": [
      " 33%|███▎      | 5.007575757575841/15 [01:27<01:24,  8.43s/it] "
     ]
    },
    {
     "name": "stdout",
     "output_type": "stream",
     "text": [
      "\n",
      "Test Epoch: 5\tAccuracy: 3018/3194 (94%)\n",
      "\n",
      "Train Epoch: 6 [0/30297 (0%)]\tLoss: 0.218369\n"
     ]
    },
    {
     "name": "stderr",
     "output_type": "stream",
     "text": [
      " 34%|███▍      | 5.166666666666755/15 [01:30<02:47, 17.08s/it] "
     ]
    },
    {
     "name": "stdout",
     "output_type": "stream",
     "text": [
      "Train Epoch: 6 [5120/30297 (17%)]\tLoss: 0.123733\n"
     ]
    },
    {
     "name": "stderr",
     "output_type": "stream",
     "text": [
      " 35%|███▌      | 5.318181818181911/15 [01:32<02:46, 17.19s/it] "
     ]
    },
    {
     "name": "stdout",
     "output_type": "stream",
     "text": [
      "Train Epoch: 6 [10240/30297 (34%)]\tLoss: 0.211130\n"
     ]
    },
    {
     "name": "stderr",
     "output_type": "stream",
     "text": [
      " 36%|███▋      | 5.4696969696970665/15 [01:35<02:41, 16.90s/it]"
     ]
    },
    {
     "name": "stdout",
     "output_type": "stream",
     "text": [
      "Train Epoch: 6 [15360/30297 (50%)]\tLoss: 0.170473\n"
     ]
    },
    {
     "name": "stderr",
     "output_type": "stream",
     "text": [
      " 37%|███▋      | 5.621212121212222/15 [01:37<02:43, 17.47s/it] "
     ]
    },
    {
     "name": "stdout",
     "output_type": "stream",
     "text": [
      "Train Epoch: 6 [20480/30297 (67%)]\tLoss: 0.100507\n"
     ]
    },
    {
     "name": "stderr",
     "output_type": "stream",
     "text": [
      " 38%|███▊      | 5.772727272727378/15 [01:40<02:36, 17.00s/it] "
     ]
    },
    {
     "name": "stdout",
     "output_type": "stream",
     "text": [
      "Train Epoch: 6 [25600/30297 (84%)]\tLoss: 0.153754\n"
     ]
    },
    {
     "name": "stderr",
     "output_type": "stream",
     "text": [
      " 40%|████      | 6.00757575757587/15 [01:43<01:14,  8.32s/it]  "
     ]
    },
    {
     "name": "stdout",
     "output_type": "stream",
     "text": [
      "\n",
      "Test Epoch: 6\tAccuracy: 3051/3194 (96%)\n",
      "\n",
      "Train Epoch: 7 [0/30297 (0%)]\tLoss: 0.145027\n"
     ]
    },
    {
     "name": "stderr",
     "output_type": "stream",
     "text": [
      " 41%|████      | 6.166666666666783/15 [01:46<02:31, 17.14s/it] "
     ]
    },
    {
     "name": "stdout",
     "output_type": "stream",
     "text": [
      "Train Epoch: 7 [5120/30297 (17%)]\tLoss: 0.159370\n"
     ]
    },
    {
     "name": "stderr",
     "output_type": "stream",
     "text": [
      " 42%|████▏     | 6.318181818181939/15 [01:48<02:29, 17.17s/it] "
     ]
    },
    {
     "name": "stdout",
     "output_type": "stream",
     "text": [
      "Train Epoch: 7 [10240/30297 (34%)]\tLoss: 0.150158\n"
     ]
    },
    {
     "name": "stderr",
     "output_type": "stream",
     "text": [
      " 43%|████▎     | 6.469696969697095/15 [01:51<02:26, 17.17s/it] "
     ]
    },
    {
     "name": "stdout",
     "output_type": "stream",
     "text": [
      "Train Epoch: 7 [15360/30297 (50%)]\tLoss: 0.101860\n"
     ]
    },
    {
     "name": "stderr",
     "output_type": "stream",
     "text": [
      " 44%|████▍     | 6.621212121212251/15 [01:54<02:22, 16.95s/it] "
     ]
    },
    {
     "name": "stdout",
     "output_type": "stream",
     "text": [
      "Train Epoch: 7 [20480/30297 (67%)]\tLoss: 0.123432\n"
     ]
    },
    {
     "name": "stderr",
     "output_type": "stream",
     "text": [
      " 45%|████▌     | 6.772727272727407/15 [01:56<02:20, 17.11s/it] "
     ]
    },
    {
     "name": "stdout",
     "output_type": "stream",
     "text": [
      "Train Epoch: 7 [25600/30297 (84%)]\tLoss: 0.114072\n"
     ]
    },
    {
     "name": "stderr",
     "output_type": "stream",
     "text": [
      " 47%|████▋     | 7.007575757575898/15 [01:59<01:07,  8.47s/it] "
     ]
    },
    {
     "name": "stdout",
     "output_type": "stream",
     "text": [
      "\n",
      "Test Epoch: 7\tAccuracy: 3015/3194 (94%)\n",
      "\n",
      "Train Epoch: 8 [0/30297 (0%)]\tLoss: 0.256338\n"
     ]
    },
    {
     "name": "stderr",
     "output_type": "stream",
     "text": [
      " 48%|████▊     | 7.166666666666812/15 [02:02<02:13, 17.01s/it] "
     ]
    },
    {
     "name": "stdout",
     "output_type": "stream",
     "text": [
      "Train Epoch: 8 [5120/30297 (17%)]\tLoss: 0.175874\n"
     ]
    },
    {
     "name": "stderr",
     "output_type": "stream",
     "text": [
      " 49%|████▉     | 7.318181818181968/15 [02:05<02:10, 16.95s/it] "
     ]
    },
    {
     "name": "stdout",
     "output_type": "stream",
     "text": [
      "Train Epoch: 8 [10240/30297 (34%)]\tLoss: 0.154504\n"
     ]
    },
    {
     "name": "stderr",
     "output_type": "stream",
     "text": [
      " 50%|████▉     | 7.469696969697123/15 [02:07<02:07, 16.95s/it] "
     ]
    },
    {
     "name": "stdout",
     "output_type": "stream",
     "text": [
      "Train Epoch: 8 [15360/30297 (50%)]\tLoss: 0.128402\n"
     ]
    },
    {
     "name": "stderr",
     "output_type": "stream",
     "text": [
      " 51%|█████     | 7.621212121212279/15 [02:10<02:04, 16.93s/it] "
     ]
    },
    {
     "name": "stdout",
     "output_type": "stream",
     "text": [
      "Train Epoch: 8 [20480/30297 (67%)]\tLoss: 0.190317\n"
     ]
    },
    {
     "name": "stderr",
     "output_type": "stream",
     "text": [
      " 52%|█████▏    | 7.772727272727435/15 [02:12<02:03, 17.05s/it] "
     ]
    },
    {
     "name": "stdout",
     "output_type": "stream",
     "text": [
      "Train Epoch: 8 [25600/30297 (84%)]\tLoss: 0.099785\n"
     ]
    },
    {
     "name": "stderr",
     "output_type": "stream",
     "text": [
      " 53%|█████▎    | 8.007575757575927/15 [02:15<00:58,  8.42s/it] "
     ]
    },
    {
     "name": "stdout",
     "output_type": "stream",
     "text": [
      "\n",
      "Test Epoch: 8\tAccuracy: 3039/3194 (95%)\n",
      "\n",
      "Train Epoch: 9 [0/30297 (0%)]\tLoss: 0.140888\n"
     ]
    },
    {
     "name": "stderr",
     "output_type": "stream",
     "text": [
      " 54%|█████▍    | 8.16666666666684/15 [02:18<01:57, 17.24s/it] "
     ]
    },
    {
     "name": "stdout",
     "output_type": "stream",
     "text": [
      "Train Epoch: 9 [5120/30297 (17%)]\tLoss: 0.098372\n"
     ]
    },
    {
     "name": "stderr",
     "output_type": "stream",
     "text": [
      " 55%|█████▌    | 8.318181818181996/15 [02:21<01:55, 17.34s/it]"
     ]
    },
    {
     "name": "stdout",
     "output_type": "stream",
     "text": [
      "Train Epoch: 9 [10240/30297 (34%)]\tLoss: 0.150669\n"
     ]
    },
    {
     "name": "stderr",
     "output_type": "stream",
     "text": [
      " 56%|█████▋    | 8.469696969697152/15 [02:24<01:53, 17.41s/it]"
     ]
    },
    {
     "name": "stdout",
     "output_type": "stream",
     "text": [
      "Train Epoch: 9 [15360/30297 (50%)]\tLoss: 0.143879\n"
     ]
    },
    {
     "name": "stderr",
     "output_type": "stream",
     "text": [
      " 57%|█████▋    | 8.621212121212308/15 [02:26<01:49, 17.15s/it]"
     ]
    },
    {
     "name": "stdout",
     "output_type": "stream",
     "text": [
      "Train Epoch: 9 [20480/30297 (67%)]\tLoss: 0.120535\n"
     ]
    },
    {
     "name": "stderr",
     "output_type": "stream",
     "text": [
      " 58%|█████▊    | 8.772727272727463/15 [02:29<01:48, 17.34s/it]"
     ]
    },
    {
     "name": "stdout",
     "output_type": "stream",
     "text": [
      "Train Epoch: 9 [25600/30297 (84%)]\tLoss: 0.133025\n"
     ]
    },
    {
     "name": "stderr",
     "output_type": "stream",
     "text": [
      " 60%|██████    | 9.007575757575955/15 [02:32<00:51,  8.62s/it]"
     ]
    },
    {
     "name": "stdout",
     "output_type": "stream",
     "text": [
      "\n",
      "Test Epoch: 9\tAccuracy: 3016/3194 (94%)\n",
      "\n",
      "Train Epoch: 10 [0/30297 (0%)]\tLoss: 0.082973\n"
     ]
    },
    {
     "name": "stderr",
     "output_type": "stream",
     "text": [
      " 61%|██████    | 9.166666666666869/15 [02:35<01:40, 17.22s/it]"
     ]
    },
    {
     "name": "stdout",
     "output_type": "stream",
     "text": [
      "Train Epoch: 10 [5120/30297 (17%)]\tLoss: 0.201066\n"
     ]
    },
    {
     "name": "stderr",
     "output_type": "stream",
     "text": [
      " 62%|██████▏   | 9.318181818182024/15 [02:37<01:37, 17.20s/it]"
     ]
    },
    {
     "name": "stdout",
     "output_type": "stream",
     "text": [
      "Train Epoch: 10 [10240/30297 (34%)]\tLoss: 0.230534\n"
     ]
    },
    {
     "name": "stderr",
     "output_type": "stream",
     "text": [
      " 63%|██████▎   | 9.46969696969718/15 [02:40<01:33, 16.89s/it] "
     ]
    },
    {
     "name": "stdout",
     "output_type": "stream",
     "text": [
      "Train Epoch: 10 [15360/30297 (50%)]\tLoss: 0.107609\n"
     ]
    },
    {
     "name": "stderr",
     "output_type": "stream",
     "text": [
      " 64%|██████▍   | 9.621212121212336/15 [02:43<01:32, 17.19s/it]"
     ]
    },
    {
     "name": "stdout",
     "output_type": "stream",
     "text": [
      "Train Epoch: 10 [20480/30297 (67%)]\tLoss: 0.259482\n"
     ]
    },
    {
     "name": "stderr",
     "output_type": "stream",
     "text": [
      " 65%|██████▌   | 9.772727272727492/15 [02:45<01:29, 17.06s/it]"
     ]
    },
    {
     "name": "stdout",
     "output_type": "stream",
     "text": [
      "Train Epoch: 10 [25600/30297 (84%)]\tLoss: 0.130523\n"
     ]
    },
    {
     "name": "stderr",
     "output_type": "stream",
     "text": [
      " 67%|██████▋   | 10.007575757575983/15 [02:48<00:40,  8.20s/it]"
     ]
    },
    {
     "name": "stdout",
     "output_type": "stream",
     "text": [
      "\n",
      "Test Epoch: 10\tAccuracy: 3015/3194 (94%)\n",
      "\n",
      "Train Epoch: 11 [0/30297 (0%)]\tLoss: 0.124879\n"
     ]
    },
    {
     "name": "stderr",
     "output_type": "stream",
     "text": [
      " 68%|██████▊   | 10.166666666666897/15 [02:51<01:24, 17.42s/it]"
     ]
    },
    {
     "name": "stdout",
     "output_type": "stream",
     "text": [
      "Train Epoch: 11 [5120/30297 (17%)]\tLoss: 0.109316\n"
     ]
    },
    {
     "name": "stderr",
     "output_type": "stream",
     "text": [
      " 69%|██████▉   | 10.318181818182053/15 [02:54<01:19, 16.98s/it]"
     ]
    },
    {
     "name": "stdout",
     "output_type": "stream",
     "text": [
      "Train Epoch: 11 [10240/30297 (34%)]\tLoss: 0.088676\n"
     ]
    },
    {
     "name": "stderr",
     "output_type": "stream",
     "text": [
      " 70%|██████▉   | 10.469696969697209/15 [02:56<01:18, 17.35s/it]"
     ]
    },
    {
     "name": "stdout",
     "output_type": "stream",
     "text": [
      "Train Epoch: 11 [15360/30297 (50%)]\tLoss: 0.148019\n"
     ]
    },
    {
     "name": "stderr",
     "output_type": "stream",
     "text": [
      " 71%|███████   | 10.621212121212364/15 [02:59<01:14, 17.06s/it]"
     ]
    },
    {
     "name": "stdout",
     "output_type": "stream",
     "text": [
      "Train Epoch: 11 [20480/30297 (67%)]\tLoss: 0.172654\n"
     ]
    },
    {
     "name": "stderr",
     "output_type": "stream",
     "text": [
      " 72%|███████▏  | 10.77272727272752/15 [03:01<01:11, 16.99s/it] "
     ]
    },
    {
     "name": "stdout",
     "output_type": "stream",
     "text": [
      "Train Epoch: 11 [25600/30297 (84%)]\tLoss: 0.083546\n"
     ]
    },
    {
     "name": "stderr",
     "output_type": "stream",
     "text": [
      " 73%|███████▎  | 11.007575757576012/15 [03:04<00:33,  8.51s/it]"
     ]
    },
    {
     "name": "stdout",
     "output_type": "stream",
     "text": [
      "\n",
      "Test Epoch: 11\tAccuracy: 3055/3194 (96%)\n",
      "\n",
      "Train Epoch: 12 [0/30297 (0%)]\tLoss: 0.094522\n"
     ]
    },
    {
     "name": "stderr",
     "output_type": "stream",
     "text": [
      " 74%|███████▍  | 11.166666666666925/15 [03:07<01:05, 17.11s/it]"
     ]
    },
    {
     "name": "stdout",
     "output_type": "stream",
     "text": [
      "Train Epoch: 12 [5120/30297 (17%)]\tLoss: 0.133946\n"
     ]
    },
    {
     "name": "stderr",
     "output_type": "stream",
     "text": [
      " 75%|███████▌  | 11.318181818182081/15 [03:10<01:03, 17.11s/it]"
     ]
    },
    {
     "name": "stdout",
     "output_type": "stream",
     "text": [
      "Train Epoch: 12 [10240/30297 (34%)]\tLoss: 0.147770\n"
     ]
    },
    {
     "name": "stderr",
     "output_type": "stream",
     "text": [
      " 76%|███████▋  | 11.469696969697237/15 [03:12<00:59, 16.90s/it]"
     ]
    },
    {
     "name": "stdout",
     "output_type": "stream",
     "text": [
      "Train Epoch: 12 [15360/30297 (50%)]\tLoss: 0.160533\n"
     ]
    },
    {
     "name": "stderr",
     "output_type": "stream",
     "text": [
      " 77%|███████▋  | 11.621212121212393/15 [03:15<00:58, 17.36s/it]"
     ]
    },
    {
     "name": "stdout",
     "output_type": "stream",
     "text": [
      "Train Epoch: 12 [20480/30297 (67%)]\tLoss: 0.189376\n"
     ]
    },
    {
     "name": "stderr",
     "output_type": "stream",
     "text": [
      " 78%|███████▊  | 11.772727272727549/15 [03:18<01:01, 19.10s/it]"
     ]
    },
    {
     "name": "stdout",
     "output_type": "stream",
     "text": [
      "Train Epoch: 12 [25600/30297 (84%)]\tLoss: 0.139767\n"
     ]
    },
    {
     "name": "stderr",
     "output_type": "stream",
     "text": [
      " 80%|████████  | 12.00757575757604/15 [03:21<00:25,  8.41s/it] "
     ]
    },
    {
     "name": "stdout",
     "output_type": "stream",
     "text": [
      "\n",
      "Test Epoch: 12\tAccuracy: 2984/3194 (93%)\n",
      "\n",
      "Train Epoch: 13 [0/30297 (0%)]\tLoss: 0.114387\n"
     ]
    },
    {
     "name": "stderr",
     "output_type": "stream",
     "text": [
      " 81%|████████  | 12.166666666666954/15 [03:24<00:48, 17.09s/it]"
     ]
    },
    {
     "name": "stdout",
     "output_type": "stream",
     "text": [
      "Train Epoch: 13 [5120/30297 (17%)]\tLoss: 0.144877\n"
     ]
    },
    {
     "name": "stderr",
     "output_type": "stream",
     "text": [
      " 82%|████████▏ | 12.31818181818211/15 [03:26<00:46, 17.17s/it] "
     ]
    },
    {
     "name": "stdout",
     "output_type": "stream",
     "text": [
      "Train Epoch: 13 [10240/30297 (34%)]\tLoss: 0.200684\n"
     ]
    },
    {
     "name": "stderr",
     "output_type": "stream",
     "text": [
      " 83%|████████▎ | 12.469696969697265/15 [03:29<00:44, 17.44s/it]"
     ]
    },
    {
     "name": "stdout",
     "output_type": "stream",
     "text": [
      "Train Epoch: 13 [15360/30297 (50%)]\tLoss: 0.107795\n"
     ]
    },
    {
     "name": "stderr",
     "output_type": "stream",
     "text": [
      " 84%|████████▍ | 12.621212121212421/15 [03:32<00:40, 17.01s/it]"
     ]
    },
    {
     "name": "stdout",
     "output_type": "stream",
     "text": [
      "Train Epoch: 13 [20480/30297 (67%)]\tLoss: 0.113808\n"
     ]
    },
    {
     "name": "stderr",
     "output_type": "stream",
     "text": [
      " 85%|████████▌ | 12.772727272727577/15 [03:34<00:44, 19.93s/it]"
     ]
    },
    {
     "name": "stdout",
     "output_type": "stream",
     "text": [
      "Train Epoch: 13 [25600/30297 (84%)]\tLoss: 0.132270\n"
     ]
    },
    {
     "name": "stderr",
     "output_type": "stream",
     "text": [
      " 87%|████████▋ | 13.007575757576069/15 [03:37<00:17,  8.57s/it]"
     ]
    },
    {
     "name": "stdout",
     "output_type": "stream",
     "text": [
      "\n",
      "Test Epoch: 13\tAccuracy: 3098/3194 (97%)\n",
      "\n",
      "Train Epoch: 14 [0/30297 (0%)]\tLoss: 0.083518\n"
     ]
    },
    {
     "name": "stderr",
     "output_type": "stream",
     "text": [
      " 88%|████████▊ | 13.166666666666982/15 [03:40<00:31, 17.20s/it]"
     ]
    },
    {
     "name": "stdout",
     "output_type": "stream",
     "text": [
      "Train Epoch: 14 [5120/30297 (17%)]\tLoss: 0.170705\n"
     ]
    },
    {
     "name": "stderr",
     "output_type": "stream",
     "text": [
      " 89%|████████▉ | 13.318181818182138/15 [03:43<00:28, 17.21s/it]"
     ]
    },
    {
     "name": "stdout",
     "output_type": "stream",
     "text": [
      "Train Epoch: 14 [10240/30297 (34%)]\tLoss: 0.065551\n"
     ]
    },
    {
     "name": "stderr",
     "output_type": "stream",
     "text": [
      " 90%|████████▉ | 13.469696969697294/15 [03:45<00:26, 17.21s/it]"
     ]
    },
    {
     "name": "stdout",
     "output_type": "stream",
     "text": [
      "Train Epoch: 14 [15360/30297 (50%)]\tLoss: 0.097606\n"
     ]
    },
    {
     "name": "stderr",
     "output_type": "stream",
     "text": [
      " 91%|█████████ | 13.62121212121245/15 [03:48<00:24, 17.61s/it] "
     ]
    },
    {
     "name": "stdout",
     "output_type": "stream",
     "text": [
      "Train Epoch: 14 [20480/30297 (67%)]\tLoss: 0.154410\n"
     ]
    },
    {
     "name": "stderr",
     "output_type": "stream",
     "text": [
      " 92%|█████████▏| 13.772727272727606/15 [03:51<00:22, 18.26s/it]"
     ]
    },
    {
     "name": "stdout",
     "output_type": "stream",
     "text": [
      "Train Epoch: 14 [25600/30297 (84%)]\tLoss: 0.113454\n"
     ]
    },
    {
     "name": "stderr",
     "output_type": "stream",
     "text": [
      " 93%|█████████▎| 14.007575757576097/15 [03:54<00:08,  8.43s/it]"
     ]
    },
    {
     "name": "stdout",
     "output_type": "stream",
     "text": [
      "\n",
      "Test Epoch: 14\tAccuracy: 3038/3194 (95%)\n",
      "\n",
      "Train Epoch: 15 [0/30297 (0%)]\tLoss: 0.166183\n"
     ]
    },
    {
     "name": "stderr",
     "output_type": "stream",
     "text": [
      " 94%|█████████▍| 14.16666666666701/15 [03:56<00:14, 17.22s/it] "
     ]
    },
    {
     "name": "stdout",
     "output_type": "stream",
     "text": [
      "Train Epoch: 15 [5120/30297 (17%)]\tLoss: 0.095523\n"
     ]
    },
    {
     "name": "stderr",
     "output_type": "stream",
     "text": [
      " 95%|█████████▌| 14.318181818182167/15 [03:59<00:11, 17.19s/it]"
     ]
    },
    {
     "name": "stdout",
     "output_type": "stream",
     "text": [
      "Train Epoch: 15 [10240/30297 (34%)]\tLoss: 0.134625\n"
     ]
    },
    {
     "name": "stderr",
     "output_type": "stream",
     "text": [
      " 96%|█████████▋| 14.469696969697322/15 [04:02<00:09, 17.33s/it]"
     ]
    },
    {
     "name": "stdout",
     "output_type": "stream",
     "text": [
      "Train Epoch: 15 [15360/30297 (50%)]\tLoss: 0.108812\n"
     ]
    },
    {
     "name": "stderr",
     "output_type": "stream",
     "text": [
      " 97%|█████████▋| 14.621212121212478/15 [04:04<00:06, 16.94s/it]"
     ]
    },
    {
     "name": "stdout",
     "output_type": "stream",
     "text": [
      "Train Epoch: 15 [20480/30297 (67%)]\tLoss: 0.178671\n"
     ]
    },
    {
     "name": "stderr",
     "output_type": "stream",
     "text": [
      " 98%|█████████▊| 14.772727272727634/15 [04:07<00:03, 17.58s/it]"
     ]
    },
    {
     "name": "stdout",
     "output_type": "stream",
     "text": [
      "Train Epoch: 15 [25600/30297 (84%)]\tLoss: 0.175969\n"
     ]
    },
    {
     "name": "stderr",
     "output_type": "stream",
     "text": [
      "100%|█████████▉| 14.99242424242461/15 [04:10<00:00,  7.42s/it] /home/achint/anaconda3/envs/cuda/lib/python3.8/site-packages/tqdm/std.py:535: TqdmWarning: clamping frac to range [0, 1]\n",
      "  full_bar = Bar(frac,\n",
      "100%|██████████| 15.000000000000368/15 [04:10<00:00, 16.69s/it]"
     ]
    },
    {
     "name": "stdout",
     "output_type": "stream",
     "text": [
      "\n",
      "Test Epoch: 15\tAccuracy: 3081/3194 (96%)\n",
      "\n"
     ]
    },
    {
     "name": "stderr",
     "output_type": "stream",
     "text": [
      "\n"
     ]
    }
   ],
   "source": [
    "log_interval = 20\n",
    "n_epoch = 15\n",
    "\n",
    "pbar_update = 1 / (len(train_loader) + len(test_loader))\n",
    "losses = []\n",
    "\n",
    "# The transform needs to live on the same device as the model and the data.\n",
    "\n",
    "with tqdm(total=n_epoch) as pbar:\n",
    "    for epoch in range(1, n_epoch + 1):\n",
    "        train(model, epoch, log_interval)\n",
    "        test(model, epoch)\n",
    "        scheduler.step()"
   ]
  },
  {
   "cell_type": "code",
   "execution_count": 37,
   "metadata": {
    "tags": []
   },
   "outputs": [
    {
     "data": {
      "image/png": "[encoded data removed]",
      "text/plain": [
       "<Figure size 432x288 with 1 Axes>"
      ]
     },
     "metadata": {
      "needs_background": "light"
     },
     "output_type": "display_data"
    }
   ],
   "source": [
    "# Let's plot the training loss versus the number of iteration.\n",
    "plt.plot(losses);\n",
    "plt.title(\"training loss\");"
   ]
  },
  {
   "cell_type": "code",
   "execution_count": 24,
   "metadata": {},
   "outputs": [],
   "source": [
    "torch.save(model, 'CPU-voice.pt')"
   ]
  },
  {
   "cell_type": "markdown",
   "metadata": {},
   "source": [
    "\n",
    "The network should be more than 65% accurate on the test set after 2\n",
    "epochs, and 85% after 21 epochs. Let’s look at the last words in the\n",
    "train set, and see how the model did on it.\n",
    "\n",
    "\n"
   ]
  },
  {
   "cell_type": "code",
   "execution_count": 22,
   "metadata": {},
   "outputs": [],
   "source": [
    "import io\n",
    "import os\n",
    "import math\n",
    "import tarfile\n",
    "import multiprocessing\n",
    "\n",
    "import scipy\n",
    "import librosa\n",
    "import boto3\n",
    "from botocore import UNSIGNED\n",
    "from botocore.config import Config\n",
    "import requests\n",
    "import matplotlib\n",
    "import matplotlib.pyplot as plt\n",
    "import pandas as pd\n",
    "import time\n",
    "from IPython.display import Audio, display\n",
    "# import torchaudio.functional as F\n",
    "import torchaudio.transforms as T"
   ]
  },
  {
   "cell_type": "code",
   "execution_count": 45,
   "metadata": {
    "collapsed": false,
    "jupyter": {
     "outputs_hidden": false
    }
   },
   "outputs": [
    {
     "name": "stdout",
     "output_type": "stream",
     "text": [
      " Predicted: down.\n"
     ]
    }
   ],
   "source": [
    "def predict(tensor):\n",
    "    # Use the model to predict the label of the waveform\n",
    "    tensor = tensor.to(device)\n",
    "    \n",
    "    tensor = model(tensor.unsqueeze(0))\n",
    "    tensor = get_likely_index(tensor)\n",
    "    tensor = index_to_label(tensor.squeeze())\n",
    "    return tensor\n",
    "\n",
    "\n",
    "# waveform, sample_rate, utterance, *_ = test_set[25]\n",
    "waveform1,sample_rate=torchaudio.load('new new/Data/ay-Up-133300.wav')\n",
    "# print(waveform1)\n",
    "from scipy.io import wavfile\n",
    "# sample_rate, data = wavfile.read('new new/Data/am-Up-132403.wav')\n",
    "new_sample_rate = 16000\n",
    "\n",
    "import scipy.signal as sps\n",
    "import numpy as np\n",
    "number_of_samples = round(len(data) * float(new_sample_rate) / sample_rate)\n",
    "data = sps.resample(data, number_of_samples)\n",
    "# data,_=sps.normalize(data,np.linalg.norm(data))\n",
    "# print(data)\n",
    "\n",
    "# waveform = torch.from_numpy(data)\n",
    "# waveform=torch.reshape(waveform,(1,31951))\n",
    "# waveform=waveform.type(torch.float32)\n",
    "# print(waveform.storage_type())\n",
    "# samplerate=16000\n",
    "resampler = T.Resample(sample_rate, 16000, dtype=waveform1.dtype)\n",
    "resampled_waveform = resampler(waveform1)\n",
    "# print(resampled_waveform.storage_type())\n",
    "# plot_waveform(waveform, sample_rate)\n",
    "\n",
    "\n",
    "print(f\" Predicted: {predict(resampled_waveform)}.\")"
   ]
  },
  {
   "cell_type": "markdown",
   "metadata": {},
   "source": [
    "Let’s find an example that isn’t classified correctly, if there is one.\n",
    "\n",
    "\n"
   ]
  },
  {
   "cell_type": "code",
   "execution_count": null,
   "metadata": {
    "collapsed": false,
    "jupyter": {
     "outputs_hidden": false
    }
   },
   "outputs": [
    {
     "name": "stdout",
     "output_type": "stream",
     "text": [
      "Data point #1. Expected: right. Predicted: no.\n"
     ]
    }
   ],
   "source": [
    "for i, (waveform, sample_rate, utterance, *_) in enumerate(test_set):\n",
    "    output = predict(waveform)\n",
    "    if output != utterance:\n",
    "        ipd.Audio(waveform.numpy(), rate=sample_rate)\n",
    "        print(f\"Data point #{i}. Expected: {utterance}. Predicted: {output}.\")\n",
    "        break\n",
    "else:\n",
    "    print(\"All examples in this dataset were correctly classified!\")\n",
    "    print(\"In this case, let's just look at the last data point\")\n",
    "    ipd.Audio(waveform.numpy(), rate=sample_rate)\n",
    "    print(f\"Data point #{i}. Expected: {utterance}. Predicted: {output}.\")"
   ]
  },
  {
   "cell_type": "markdown",
   "metadata": {},
   "source": [
    "Feel free to try with one of your own recordings of one of the labels!\n",
    "For example, using Colab, say “Go” while executing the cell below. This\n",
    "will record one second of audio and try to classify it.\n",
    "\n",
    "\n"
   ]
  }
 ],
 "metadata": {
  "kernelspec": {
   "display_name": "Python 3 (ipykernel)",
   "language": "python",
   "name": "python3"
  },
  "language_info": {
   "codemirror_mode": {
    "name": "ipython",
    "version": 3
   },
   "file_extension": ".py",
   "mimetype": "text/x-python",
   "name": "python",
   "nbconvert_exporter": "python",
   "pygments_lexer": "ipython3",
   "version": "3.8.11"
  }
 },
 "nbformat": 4,
 "nbformat_minor": 4
}
